{
 "cells": [
  {
   "cell_type": "markdown",
   "metadata": {},
   "source": [
    "Let's try to plot the phase portrait and bifurcation diagram of the E-I model.\n",
    "\n",
    "Do this bit without the noise"
   ]
  },
  {
   "cell_type": "code",
   "execution_count": 1,
   "metadata": {},
   "outputs": [
    {
     "name": "stderr",
     "output_type": "stream",
     "text": [
      "/Users/seanfw/miniconda2/lib/python2.7/site-packages/brian2/core/variables.py:174: FutureWarning: Conversion of the second argument of issubdtype from `float` to `np.floating` is deprecated. In future, it will be treated as `np.float64 == np.dtype(float).type`.\n",
      "  return np.issubdtype(np.bool, self.dtype)\n"
     ]
    }
   ],
   "source": [
    "# let's get what we need together\n",
    "from __future__ import division\n",
    "import PyDSTool as dst\n",
    "import numpy as np\n",
    "from matplotlib import pyplot as plt\n",
    "%matplotlib inline\n",
    "import pandas\n",
    "import scipy.io as si\n",
    "import brian2"
   ]
  },
  {
   "cell_type": "code",
   "execution_count": 13,
   "metadata": {},
   "outputs": [
    {
     "ename": "PyDSTool_ExistError",
     "evalue": "'null_curve_y failed: points were out of domain'",
     "output_type": "error",
     "traceback": [
      "\u001b[0;31m---------------------------------------------------------------------------\u001b[0m",
      "\u001b[0;31mPyDSTool_ExistError\u001b[0m                       Traceback (most recent call last)",
      "\u001b[0;32m<ipython-input-13-0ba80be0f001>\u001b[0m in \u001b[0;36m<module>\u001b[0;34m()\u001b[0m\n\u001b[1;32m     93\u001b[0m \u001b[0;34m\u001b[0m\u001b[0m\n\u001b[1;32m     94\u001b[0m \u001b[0;31m# Find and plot the nullclines\u001b[0m\u001b[0;34m\u001b[0m\u001b[0;34m\u001b[0m\u001b[0m\n\u001b[0;32m---> 95\u001b[0;31m \u001b[0mnulls_x\u001b[0m\u001b[0;34m,\u001b[0m \u001b[0mnulls_y\u001b[0m \u001b[0;34m=\u001b[0m \u001b[0mpp\u001b[0m\u001b[0;34m.\u001b[0m\u001b[0mfind_nullclines\u001b[0m\u001b[0;34m(\u001b[0m\u001b[0mdmModel\u001b[0m\u001b[0;34m,\u001b[0m \u001b[0;34m'S_NMDA'\u001b[0m\u001b[0;34m,\u001b[0m \u001b[0;34m'S_GABA'\u001b[0m\u001b[0;34m,\u001b[0m \u001b[0mn\u001b[0m\u001b[0;34m=\u001b[0m\u001b[0;36m3\u001b[0m\u001b[0;34m,\u001b[0m \u001b[0meps\u001b[0m\u001b[0;34m=\u001b[0m\u001b[0;36m1e-8\u001b[0m\u001b[0;34m,\u001b[0m\u001b[0mmax_step\u001b[0m\u001b[0;34m=\u001b[0m\u001b[0;36m0.01\u001b[0m\u001b[0;34m,\u001b[0m\u001b[0mfps\u001b[0m\u001b[0;34m=\u001b[0m\u001b[0mfp_coord\u001b[0m\u001b[0;34m)\u001b[0m\u001b[0;34m\u001b[0m\u001b[0m\n\u001b[0m\u001b[1;32m     96\u001b[0m \u001b[0;34m\u001b[0m\u001b[0m\n\u001b[1;32m     97\u001b[0m \u001b[0mplt\u001b[0m\u001b[0;34m.\u001b[0m\u001b[0mplot\u001b[0m\u001b[0;34m(\u001b[0m\u001b[0mnulls_x\u001b[0m\u001b[0;34m[\u001b[0m\u001b[0;34m:\u001b[0m\u001b[0;34m,\u001b[0m\u001b[0;36m1\u001b[0m\u001b[0;34m]\u001b[0m\u001b[0;34m,\u001b[0m \u001b[0mnulls_x\u001b[0m\u001b[0;34m[\u001b[0m\u001b[0;34m:\u001b[0m\u001b[0;34m,\u001b[0m\u001b[0;36m0\u001b[0m\u001b[0;34m]\u001b[0m\u001b[0;34m,\u001b[0m\u001b[0;34m'b'\u001b[0m\u001b[0;34m)\u001b[0m\u001b[0;34m\u001b[0m\u001b[0m\n",
      "\u001b[0;32m/Users/seanfw/miniconda2/lib/python2.7/site-packages/PyDSTool/Toolbox/phaseplane.pyc\u001b[0m in \u001b[0;36mfind_nullclines\u001b[0;34m(gen, xname, yname, subdomain, fps, n, t, eps, crop_tol_pc, jac, max_step, max_num_points, only_var, seed_points, strict_domains, pycont_cache)\u001b[0m\n\u001b[1;32m   1059\u001b[0m                 \u001b[0my_null\u001b[0m\u001b[0;34m[\u001b[0m\u001b[0;34m:\u001b[0m\u001b[0;34m,\u001b[0m\u001b[0;36m0\u001b[0m\u001b[0;34m]\u001b[0m\u001b[0;34m,\u001b[0m \u001b[0my_null\u001b[0m\u001b[0;34m[\u001b[0m\u001b[0;34m:\u001b[0m\u001b[0;34m,\u001b[0m\u001b[0;36m1\u001b[0m\u001b[0;34m]\u001b[0m\u001b[0;34m\u001b[0m\u001b[0m\n\u001b[1;32m   1060\u001b[0m             \u001b[0;32mexcept\u001b[0m \u001b[0mIndexError\u001b[0m\u001b[0;34m:\u001b[0m\u001b[0;34m\u001b[0m\u001b[0m\n\u001b[0;32m-> 1061\u001b[0;31m                 \u001b[0;32mraise\u001b[0m \u001b[0mPyDSTool_ExistError\u001b[0m\u001b[0;34m(\u001b[0m\u001b[0;34m'null_curve_y failed: points were out of domain'\u001b[0m\u001b[0;34m)\u001b[0m\u001b[0;34m\u001b[0m\u001b[0m\n\u001b[0m\u001b[1;32m   1062\u001b[0m             \u001b[0my_null\u001b[0m \u001b[0;34m=\u001b[0m \u001b[0muniquePoints\u001b[0m\u001b[0;34m(\u001b[0m\u001b[0my_null\u001b[0m\u001b[0;34m)\u001b[0m\u001b[0;34m\u001b[0m\u001b[0m\n\u001b[1;32m   1063\u001b[0m             \u001b[0;31m# Occasional oservation: PyCont can mess up ordering of first few points\u001b[0m\u001b[0;34m\u001b[0m\u001b[0;34m\u001b[0m\u001b[0m\n",
      "\u001b[0;31mPyDSTool_ExistError\u001b[0m: 'null_curve_y failed: points were out of domain'"
     ]
    },
    {
     "data": {
      "image/png": "[encoded data removed]",
      "text/plain": [
       "<Figure size 432x288 with 1 Axes>"
      ]
     },
     "metadata": {
      "needs_background": "light"
     },
     "output_type": "display_data"
    }
   ],
   "source": [
    "# we must give a name\n",
    "DSargs = dst.args(name='E-I_model')\n",
    "\n",
    "# parameters\n",
    "DSargs.pars = { 'tau_NMDA': 0.06,\n",
    "                'tau_GABA': 0.005,\n",
    "                'a_E': 270.,\n",
    "                'b_E': 108.,\n",
    "                'd_E': 0.154,\n",
    "                'a_I': 615,\n",
    "                'b_I': 177,\n",
    "                'd_I': 0.087,\n",
    "                'gam': 0.641,\n",
    "                'g_Eself': 0.52,\n",
    "                'g_IE':   0.25,\n",
    "                'g_EI': - 0.35,\n",
    "                'g_Iself': - 0.2,\n",
    "                'I_0': 0.31,\n",
    "                'I_ext': 0}\n",
    "\n",
    "DSargs.pars = { # Time constants\n",
    "                'tau_NMDA': 0.06   * brian2.second,    # s \n",
    "                'tau_AMPA': 0.002   * brian2.second,    # s \n",
    "                'tau_GABA': 0.005  * brian2.second,    # s \n",
    "                'tau_rates': 0.002 * brian2.second,    # s \n",
    "\n",
    "                # f-I curve parameters - E populations\n",
    "                'a_E': 270.,   # Hz/nA\n",
    "                'b_E': 108.,   # Hz\n",
    "                'd_E': 0.154,  # s\n",
    "                'gam': 0.641,  # unitless\n",
    "\n",
    "                # f-I curve parameters - I populations\n",
    "                'c_I': 330,    # Hz/nA\n",
    "                'r0_I': -95,   # Hz\n",
    "\n",
    "                # Strength of connections from E cells\n",
    "                'g_E_self': 0.4 ,        # nA - from E to E\n",
    "                'g_IE':     0.23,        # nA - from E to I\n",
    "\n",
    "                # Strength of connections from I cells\n",
    "                'g_I_self': -0.15,     # nA  - from I to I\n",
    "                'g_EI':     -0.3,     # nA  - from I to E\n",
    "\n",
    "                # Background inputs\n",
    "                'I0_E': 0.31     * brian2.nA,           # nA - background onto E population\n",
    "                'I0_I': 0.22      * brian2.nA,         # nA - background onto I population\n",
    "\n",
    "#                 # Noise std dev\n",
    "#                 'std_noise': 0.01 * brian2.nA,         # nA  - standard deviation of noise input  \n",
    "\n",
    "#                 # initial values\n",
    "#                 'r0_E': 5 * brian2.Hz,\n",
    "\n",
    "#                 # stimulus strength\n",
    "                 'I_ext': 0 \n",
    "                    }\n",
    "\n",
    "# auxiliary functions: fI curve and recurrent current\n",
    "DSargs.fnspecs  = {\n",
    "    'fI_E': (['I'], '(a_E*I-b_E)/(1.0 - exp(-d_E*(a_E*I-b_E)))'),\n",
    "    'fI_I': (['I'], 'c_I*I + r0_I'),\n",
    "    'recCurrE': (['x', 'y'], 'g_E_self*x + g_EI*y + I0_E'),\n",
    "    'recCurrI': (['x', 'y'], 'g_I_self*x + g_IE*y + I0_I')\n",
    "}\n",
    "\n",
    "# rhs of the differential equations\n",
    "DSargs.varspecs = {'S_NMDA': '(-S_NMDA/tau_NMDA + gam*(1.0 - S_NMDA)*fI_E(recCurrE(S_NMDA,S_GABA) + I_ext))',\n",
    "                   'S_GABA': ' -S_GABA/tau_GABA + fI_I(recCurrI(S_GABA,S_NMDA))'}\n",
    "\n",
    "# initial conditions\n",
    "DSargs.ics = {'S_NMDA': 0.1, 'S_GABA': 0.1}\n",
    "\n",
    "# set the range of integration\n",
    "DSargs.tdomain = [0,10]\n",
    "\n",
    "# variable domain for the phase plane analysis\n",
    "DSargs.xdomain = {'S_GABA': [0,1], 'S_NMDA': [0,1]}\n",
    "\n",
    "# variable domain for the phase plane analysis\n",
    "DSargs.pdomain = {'I_ext': [0,0.3] }\n",
    "\n",
    "# Create the model object\n",
    "dmModel = dst.Vode_ODEsystem(DSargs)\n",
    "\n",
    "# Open a figure and plot the vector field\n",
    "from PyDSTool.Toolbox import phaseplane as pp\n",
    "\n",
    "pp.plot_PP_vf(dmModel,'S_GABA','S_NMDA',N=14, scale_exp=-1)\n",
    "\n",
    "# Find the fixed points\n",
    "fp_coord = pp.find_fixedpoints(dmModel,n=6,eps=1e-8)\n",
    "\n",
    "# Find and plot the nullclines\n",
    "nulls_x, nulls_y = pp.find_nullclines(dmModel, 'S_NMDA', 'S_GABA', n=3, eps=1e-8,max_step=0.01,fps=fp_coord)\n",
    "\n",
    "plt.plot(nulls_x[:,1], nulls_x[:,0],'b')\n",
    "plt.plot(nulls_y[:,1], nulls_y[:,0],'g')\n",
    "\n",
    "# Compute the jacobian to determine the stability of the fixed points\n",
    "jac, new_fnspecs = \\\n",
    "dst.prepJacobian(dmModel.funcspec._initargs['varspecs'],\n",
    "['S_GABA', 'S_NMDA'], dmModel.funcspec._initargs['fnspecs'])\n",
    "scope = dst.copy(dmModel.pars)\n",
    "scope.update(new_fnspecs)\n",
    "jac_fn = dst.expr2fun(jac, ensure_args=['t'], **scope)\n",
    "\n",
    "# add fixed points to the phase portrait\n",
    "\n",
    "for i in range(0,len(fp_coord)):\n",
    "    fp = pp.fixedpoint_2D(dmModel,dst.Point(fp_coord[i]),\n",
    "                         jac = jac_fn, eps=1e-8)\n",
    "    pp.plot_PP_fps(fp)\n",
    "    \n",
    "# compute an example trajectory\n",
    "traj = dmModel.compute('trajectory1')\n",
    "pts = traj.sample()\n",
    "plt.plot(pts['S_GABA'],pts['S_NMDA'],'r-o')"
   ]
  },
  {
   "cell_type": "markdown",
   "metadata": {},
   "source": [
    "Now let's sketch the bifurcation diagram"
   ]
  },
  {
   "cell_type": "code",
   "execution_count": 3,
   "metadata": {},
   "outputs": [
    {
     "name": "stdout",
     "output_type": "stream",
     "text": [
      "Warning: Detection of all points not implemented for curve EP-C.\n"
     ]
    },
    {
     "name": "stderr",
     "output_type": "stream",
     "text": [
      "WARNING    /Users/seanfw/miniconda2/lib/python2.7/site-packages/matplotlib/cbook/deprecation.py:107: MatplotlibDeprecationWarning: Using pyplot.axes(ax) with ax an Axes argument is deprecated. Please use pyplot.sca(ax) instead.\n",
      "  warnings.warn(message, mplDeprecation, stacklevel=1)\n",
      " [py.warnings]\n"
     ]
    },
    {
     "data": {
      "image/png": "[encoded data removed]",
      "text/plain": [
       "<Figure size 432x288 with 1 Axes>"
      ]
     },
     "metadata": {
      "needs_background": "light"
     },
     "output_type": "display_data"
    }
   ],
   "source": [
    "# Set the lower bound of the control (bifurcation) parameter\n",
    "dmModel.set(pars = {'g_Eself': 0.45})\n",
    "\n",
    "# initial conditions # Close to one of the steady states\n",
    "dmModel.set(ics = {'S_NMDA': 0.01, 'S_GABA': 0.01})\n",
    "\n",
    "# Set up continuation class\n",
    "PC = dst.ContClass(dmModel)\n",
    "\n",
    "# Equilibrium point curve (EP-C). The branch is labeled EQ1:\n",
    "PCargs = dst.args(name='EQ1', type='EP-C')\n",
    "PCargs.freepars = ['g_Eself'] # control parameter\n",
    "PCargs.MaxNumPoints = 1000\n",
    "PCargs.MaxStepSize  = 1e-4\n",
    "PCargs.MinStepSize  = 1e-5\n",
    "PCargs.StepSize     = 1e-3\n",
    "PCargs.LocBifPoints = ['all'] #['LP','BP']   # detect limit and saddle-node bifurcation types\n",
    "PCargs.SaveEigen = True # to determine the stability of branches\n",
    "\n",
    "PC.newCurve(PCargs)\n",
    "\n",
    "PC['EQ1'].forward()\n",
    "\n",
    "PC['EQ1'].display(['g_Eself','S_NMDA'], stability=True, figure=1)"
   ]
  },
  {
   "cell_type": "code",
   "execution_count": null,
   "metadata": {},
   "outputs": [],
   "source": []
  },
  {
   "cell_type": "code",
   "execution_count": null,
   "metadata": {},
   "outputs": [],
   "source": []
  }
 ],
 "metadata": {
  "kernelspec": {
   "display_name": "Python 2",
   "language": "python",
   "name": "python2"
  },
  "language_info": {
   "codemirror_mode": {
    "name": "ipython",
    "version": 2
   },
   "file_extension": ".py",
   "mimetype": "text/x-python",
   "name": "python",
   "nbconvert_exporter": "python",
   "pygments_lexer": "ipython2",
   "version": "2.7.15"
  }
 },
 "nbformat": 4,
 "nbformat_minor": 2
}
